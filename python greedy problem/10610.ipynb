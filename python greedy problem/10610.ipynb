{
 "cells": [
  {
   "cell_type": "code",
   "execution_count": 16,
   "metadata": {},
   "outputs": [
    {
     "name": "stdout",
     "output_type": "stream",
     "text": [
      "80875542\n"
     ]
    }
   ],
   "source": [
    "# 0 이 있어야 하고 수들의 합이 3의 배수여야한다\n",
    "n = input()"
   ]
  },
  {
   "cell_type": "code",
   "execution_count": 17,
   "metadata": {},
   "outputs": [
    {
     "name": "stdout",
     "output_type": "stream",
     "text": [
      "88755420\n"
     ]
    }
   ],
   "source": [
    "s=0\n",
    "if '0' not in n:\n",
    "    print(-1)\n",
    "else:\n",
    "    for i in n:# n의 자리수를 for문으로 루틴\n",
    "        s+=int(i)# i 가 n 의 자리수\n",
    "    if s%3!=0:\n",
    "        print(-1)\n",
    "    else:\n",
    "        print(''.join(sorted(n,reverse=True)))#문자열로 되어 있는걸 sorting한다음에 join해준다 (join은 split의 반대)"
   ]
  },
  {
   "cell_type": "code",
   "execution_count": null,
   "metadata": {},
   "outputs": [],
   "source": []
  }
 ],
 "metadata": {
  "kernelspec": {
   "display_name": "Python 3",
   "language": "python",
   "name": "python3"
  },
  "language_info": {
   "codemirror_mode": {
    "name": "ipython",
    "version": 3
   },
   "file_extension": ".py",
   "mimetype": "text/x-python",
   "name": "python",
   "nbconvert_exporter": "python",
   "pygments_lexer": "ipython3",
   "version": "3.7.6"
  }
 },
 "nbformat": 4,
 "nbformat_minor": 4
}
