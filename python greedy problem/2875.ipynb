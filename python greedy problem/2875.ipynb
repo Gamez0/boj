{
 "cells": [
  {
   "cell_type": "code",
   "execution_count": 20,
   "metadata": {},
   "outputs": [
    {
     "name": "stdout",
     "output_type": "stream",
     "text": [
      "100 100 0\n"
     ]
    }
   ],
   "source": [
    "female,male,k = map(int, input().split())"
   ]
  },
  {
   "cell_type": "code",
   "execution_count": 18,
   "metadata": {},
   "outputs": [],
   "source": [
    "ans =0\n",
    "if 2*male>female: # 여자가 부족하니깐 여자는 최대한 팀으로\n",
    "    ans = female//2# //: 몫, / 나눈 값 (소숫점 포함)\n",
    "    k-=female%2\n",
    "    k-=(male-ans)\n",
    "elif 2*male<=female: # 남자가 부족하니깐 남자는 최대한 팀으로\n",
    "    ans = male\n",
    "    k-=female-(2*male)\n",
    "if k>0:\n",
    "    ans-=k//3\n",
    "    if k%3!=0:\n",
    "        ans-=1"
   ]
  },
  {
   "cell_type": "code",
   "execution_count": 19,
   "metadata": {},
   "outputs": [
    {
     "name": "stdout",
     "output_type": "stream",
     "text": [
      "50\n"
     ]
    }
   ],
   "source": [
    "print(ans)"
   ]
  },
  {
   "cell_type": "code",
   "execution_count": 21,
   "metadata": {},
   "outputs": [
    {
     "name": "stdout",
     "output_type": "stream",
     "text": [
      "50\n"
     ]
    }
   ],
   "source": [
    "while k:#다른 코드\n",
    "    if female>=2*male:\n",
    "        female-=1\n",
    "    else:\n",
    "        male-=1\n",
    "    k-=1\n",
    "print(min(female//2,male))"
   ]
  },
  {
   "cell_type": "code",
   "execution_count": null,
   "metadata": {},
   "outputs": [],
   "source": []
  }
 ],
 "metadata": {
  "kernelspec": {
   "display_name": "Python 3",
   "language": "python",
   "name": "python3"
  },
  "language_info": {
   "codemirror_mode": {
    "name": "ipython",
    "version": 3
   },
   "file_extension": ".py",
   "mimetype": "text/x-python",
   "name": "python",
   "nbconvert_exporter": "python",
   "pygments_lexer": "ipython3",
   "version": "3.7.6"
  }
 },
 "nbformat": 4,
 "nbformat_minor": 4
}
